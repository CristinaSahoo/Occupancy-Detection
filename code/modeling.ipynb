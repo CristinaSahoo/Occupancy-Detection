{
 "cells": [
  {
   "cell_type": "markdown",
   "metadata": {},
   "source": [
    "### Import libraries."
   ]
  },
  {
   "cell_type": "code",
   "execution_count": 1,
   "metadata": {},
   "outputs": [],
   "source": [
    "import pandas as pd\n",
    "import numpy as np\n",
    "\n",
    "import pickle\n",
    "from functions import get_scores\n",
    "from functions import run_model\n",
    "\n",
    "from sklearn.preprocessing import StandardScaler\n",
    "from sklearn.model_selection import GridSearchCV, train_test_split, cross_val_score, StratifiedKFold\n",
    "from sklearn.ensemble import RandomForestClassifier, ExtraTreesClassifier, GradientBoostingClassifier\n",
    "from sklearn.discriminant_analysis import LinearDiscriminantAnalysis\n",
    "from sklearn.tree import DecisionTreeClassifier\n",
    "from sklearn.neighbors import KNeighborsClassifier\n",
    "from sklearn import svm\n",
    "from sklearn import metrics"
   ]
  },
  {
   "cell_type": "markdown",
   "metadata": {},
   "source": [
    "### Load data."
   ]
  },
  {
   "cell_type": "code",
   "execution_count": 2,
   "metadata": {},
   "outputs": [],
   "source": [
    "df = pickle.load(open(\"../datasets/occupancy.p\", \"rb\"))\n",
    "# df = pd.read_csv('../datasets/occupancy.csv')"
   ]
  },
  {
   "cell_type": "code",
   "execution_count": 149,
   "metadata": {},
   "outputs": [
    {
     "data": {
      "text/html": [
       "<div>\n",
       "<style scoped>\n",
       "    .dataframe tbody tr th:only-of-type {\n",
       "        vertical-align: middle;\n",
       "    }\n",
       "\n",
       "    .dataframe tbody tr th {\n",
       "        vertical-align: top;\n",
       "    }\n",
       "\n",
       "    .dataframe thead th {\n",
       "        text-align: right;\n",
       "    }\n",
       "</style>\n",
       "<table border=\"1\" class=\"dataframe\">\n",
       "  <thead>\n",
       "    <tr style=\"text-align: right;\">\n",
       "      <th></th>\n",
       "      <th>temperature</th>\n",
       "      <th>humidity</th>\n",
       "      <th>light</th>\n",
       "      <th>co2</th>\n",
       "      <th>humidity_ratio</th>\n",
       "      <th>occupancy</th>\n",
       "    </tr>\n",
       "    <tr>\n",
       "      <th>date</th>\n",
       "      <th></th>\n",
       "      <th></th>\n",
       "      <th></th>\n",
       "      <th></th>\n",
       "      <th></th>\n",
       "      <th></th>\n",
       "    </tr>\n",
       "  </thead>\n",
       "  <tbody>\n",
       "    <tr>\n",
       "      <th>2015-02-04 17:51:00</th>\n",
       "      <td>23.180</td>\n",
       "      <td>27.2720</td>\n",
       "      <td>426.00</td>\n",
       "      <td>721.25</td>\n",
       "      <td>0.004793</td>\n",
       "      <td>1</td>\n",
       "    </tr>\n",
       "    <tr>\n",
       "      <th>2015-02-04 17:52:00</th>\n",
       "      <td>23.150</td>\n",
       "      <td>27.2675</td>\n",
       "      <td>429.50</td>\n",
       "      <td>714.00</td>\n",
       "      <td>0.004783</td>\n",
       "      <td>1</td>\n",
       "    </tr>\n",
       "    <tr>\n",
       "      <th>2015-02-04 17:53:00</th>\n",
       "      <td>23.150</td>\n",
       "      <td>27.2450</td>\n",
       "      <td>426.00</td>\n",
       "      <td>713.50</td>\n",
       "      <td>0.004779</td>\n",
       "      <td>1</td>\n",
       "    </tr>\n",
       "    <tr>\n",
       "      <th>2015-02-04 17:54:00</th>\n",
       "      <td>23.150</td>\n",
       "      <td>27.2000</td>\n",
       "      <td>426.00</td>\n",
       "      <td>708.25</td>\n",
       "      <td>0.004772</td>\n",
       "      <td>1</td>\n",
       "    </tr>\n",
       "    <tr>\n",
       "      <th>2015-02-04 17:55:00</th>\n",
       "      <td>23.100</td>\n",
       "      <td>27.2000</td>\n",
       "      <td>426.00</td>\n",
       "      <td>704.50</td>\n",
       "      <td>0.004757</td>\n",
       "      <td>1</td>\n",
       "    </tr>\n",
       "    <tr>\n",
       "      <th>...</th>\n",
       "      <td>...</td>\n",
       "      <td>...</td>\n",
       "      <td>...</td>\n",
       "      <td>...</td>\n",
       "      <td>...</td>\n",
       "      <td>...</td>\n",
       "    </tr>\n",
       "    <tr>\n",
       "      <th>2015-02-18 09:15:00</th>\n",
       "      <td>20.815</td>\n",
       "      <td>27.7175</td>\n",
       "      <td>429.75</td>\n",
       "      <td>1505.25</td>\n",
       "      <td>0.004213</td>\n",
       "      <td>1</td>\n",
       "    </tr>\n",
       "    <tr>\n",
       "      <th>2015-02-18 09:16:00</th>\n",
       "      <td>20.865</td>\n",
       "      <td>27.7450</td>\n",
       "      <td>423.50</td>\n",
       "      <td>1514.50</td>\n",
       "      <td>0.004230</td>\n",
       "      <td>1</td>\n",
       "    </tr>\n",
       "    <tr>\n",
       "      <th>2015-02-18 09:17:00</th>\n",
       "      <td>20.890</td>\n",
       "      <td>27.7450</td>\n",
       "      <td>423.50</td>\n",
       "      <td>1521.50</td>\n",
       "      <td>0.004237</td>\n",
       "      <td>1</td>\n",
       "    </tr>\n",
       "    <tr>\n",
       "      <th>2015-02-18 09:18:00</th>\n",
       "      <td>20.890</td>\n",
       "      <td>28.0225</td>\n",
       "      <td>418.75</td>\n",
       "      <td>1632.00</td>\n",
       "      <td>0.004279</td>\n",
       "      <td>1</td>\n",
       "    </tr>\n",
       "    <tr>\n",
       "      <th>2015-02-18 09:19:00</th>\n",
       "      <td>21.000</td>\n",
       "      <td>28.1000</td>\n",
       "      <td>409.00</td>\n",
       "      <td>1864.00</td>\n",
       "      <td>0.004321</td>\n",
       "      <td>1</td>\n",
       "    </tr>\n",
       "  </tbody>\n",
       "</table>\n",
       "<p>17895 rows × 6 columns</p>\n",
       "</div>"
      ],
      "text/plain": [
       "                     temperature  humidity   light      co2  humidity_ratio  \\\n",
       "date                                                                          \n",
       "2015-02-04 17:51:00       23.180   27.2720  426.00   721.25        0.004793   \n",
       "2015-02-04 17:52:00       23.150   27.2675  429.50   714.00        0.004783   \n",
       "2015-02-04 17:53:00       23.150   27.2450  426.00   713.50        0.004779   \n",
       "2015-02-04 17:54:00       23.150   27.2000  426.00   708.25        0.004772   \n",
       "2015-02-04 17:55:00       23.100   27.2000  426.00   704.50        0.004757   \n",
       "...                          ...       ...     ...      ...             ...   \n",
       "2015-02-18 09:15:00       20.815   27.7175  429.75  1505.25        0.004213   \n",
       "2015-02-18 09:16:00       20.865   27.7450  423.50  1514.50        0.004230   \n",
       "2015-02-18 09:17:00       20.890   27.7450  423.50  1521.50        0.004237   \n",
       "2015-02-18 09:18:00       20.890   28.0225  418.75  1632.00        0.004279   \n",
       "2015-02-18 09:19:00       21.000   28.1000  409.00  1864.00        0.004321   \n",
       "\n",
       "                     occupancy  \n",
       "date                            \n",
       "2015-02-04 17:51:00          1  \n",
       "2015-02-04 17:52:00          1  \n",
       "2015-02-04 17:53:00          1  \n",
       "2015-02-04 17:54:00          1  \n",
       "2015-02-04 17:55:00          1  \n",
       "...                        ...  \n",
       "2015-02-18 09:15:00          1  \n",
       "2015-02-18 09:16:00          1  \n",
       "2015-02-18 09:17:00          1  \n",
       "2015-02-18 09:18:00          1  \n",
       "2015-02-18 09:19:00          1  \n",
       "\n",
       "[17895 rows x 6 columns]"
      ]
     },
     "execution_count": 149,
     "metadata": {},
     "output_type": "execute_result"
    }
   ],
   "source": [
    "df"
   ]
  },
  {
   "cell_type": "markdown",
   "metadata": {},
   "source": [
    "### Createa a dataframe for storing model scores"
   ]
  },
  {
   "cell_type": "code",
   "execution_count": 12,
   "metadata": {},
   "outputs": [
    {
     "data": {
      "text/html": [
       "<div>\n",
       "<style scoped>\n",
       "    .dataframe tbody tr th:only-of-type {\n",
       "        vertical-align: middle;\n",
       "    }\n",
       "\n",
       "    .dataframe tbody tr th {\n",
       "        vertical-align: top;\n",
       "    }\n",
       "\n",
       "    .dataframe thead th {\n",
       "        text-align: right;\n",
       "    }\n",
       "</style>\n",
       "<table border=\"1\" class=\"dataframe\">\n",
       "  <thead>\n",
       "    <tr style=\"text-align: right;\">\n",
       "      <th></th>\n",
       "      <th>Model name</th>\n",
       "      <th>Features</th>\n",
       "      <th>Best score</th>\n",
       "      <th>Train score</th>\n",
       "      <th>Test score</th>\n",
       "      <th>Sensitivity</th>\n",
       "      <th>Specificity</th>\n",
       "      <th>Precision</th>\n",
       "      <th>Accuracy</th>\n",
       "      <th>F1-score</th>\n",
       "    </tr>\n",
       "  </thead>\n",
       "  <tbody>\n",
       "  </tbody>\n",
       "</table>\n",
       "</div>"
      ],
      "text/plain": [
       "Empty DataFrame\n",
       "Columns: [Model name, Features, Best score, Train score, Test score, Sensitivity, Specificity, Precision, Accuracy, F1-score]\n",
       "Index: []"
      ]
     },
     "execution_count": 12,
     "metadata": {},
     "output_type": "execute_result"
    }
   ],
   "source": [
    "column_names = ['Model name', 'Features', 'Best score', 'Train score', 'Test score', \n",
    "                'Sensitivity', 'Specificity', 'Precision', 'Accuracy', 'F1-score']\n",
    "scores_df = pd.DataFrame(columns=column_names)\n",
    "scores_df.head()"
   ]
  },
  {
   "cell_type": "markdown",
   "metadata": {},
   "source": [
    "### Features and target variables."
   ]
  },
  {
   "cell_type": "code",
   "execution_count": 5,
   "metadata": {},
   "outputs": [],
   "source": [
    "features_list = [['temperature', 'humidity', 'light', 'co2', 'humidity_ratio'],\n",
    "                 ['temperature', 'humidity', 'light', 'co2'],\n",
    "                 ['temperature', 'humidity', 'co2', 'humidity_ratio'],\n",
    "                 ['temperature', 'humidity', 'light', 'humidity_ratio'],\n",
    "                 ['temperature', 'humidity', 'humidity_ratio'],\n",
    "                 ['temperature', 'humidity'],\n",
    "                 ['temperature', 'light'],\n",
    "                 ['humidity', 'light'],\n",
    "                 ['temperature', 'co2']\n",
    "                ]\n",
    "target = 'occupancy'"
   ]
  },
  {
   "cell_type": "markdown",
   "metadata": {},
   "source": [
    "### Initialize common grid search parameters for all models."
   ]
  },
  {
   "cell_type": "code",
   "execution_count": 152,
   "metadata": {},
   "outputs": [],
   "source": [
    "cv_folds = StratifiedKFold(n_splits=5, shuffle=True, random_state=0)\n",
    "verbose = 1\n",
    "n_jobs = 4"
   ]
  },
  {
   "cell_type": "markdown",
   "metadata": {},
   "source": [
    "### Random Forest (RF)"
   ]
  },
  {
   "cell_type": "code",
   "execution_count": 153,
   "metadata": {},
   "outputs": [],
   "source": [
    "model_name = 'rf'\n",
    "params = { \n",
    "    'n_estimators' : [75,100,125],\n",
    "    'max_features' : [None, 'auto'],\n",
    "    'max_depth' : [None, 5, 6]\n",
    "}"
   ]
  },
  {
   "cell_type": "code",
   "execution_count": 154,
   "metadata": {},
   "outputs": [
    {
     "name": "stdout",
     "output_type": "stream",
     "text": [
      "Fitting 5 folds for each of 18 candidates, totalling 90 fits\n"
     ]
    },
    {
     "name": "stderr",
     "output_type": "stream",
     "text": [
      "[Parallel(n_jobs=4)]: Using backend LokyBackend with 4 concurrent workers.\n",
      "[Parallel(n_jobs=4)]: Done  42 tasks      | elapsed:   11.2s\n",
      "[Parallel(n_jobs=4)]: Done  90 out of  90 | elapsed:   18.8s finished\n"
     ]
    },
    {
     "name": "stdout",
     "output_type": "stream",
     "text": [
      "Fitting 5 folds for each of 18 candidates, totalling 90 fits\n"
     ]
    },
    {
     "name": "stderr",
     "output_type": "stream",
     "text": [
      "[Parallel(n_jobs=4)]: Using backend LokyBackend with 4 concurrent workers.\n",
      "[Parallel(n_jobs=4)]: Done  42 tasks      | elapsed:    7.4s\n",
      "[Parallel(n_jobs=4)]: Done  90 out of  90 | elapsed:   13.8s finished\n"
     ]
    },
    {
     "name": "stdout",
     "output_type": "stream",
     "text": [
      "Fitting 5 folds for each of 18 candidates, totalling 90 fits\n"
     ]
    },
    {
     "name": "stderr",
     "output_type": "stream",
     "text": [
      "[Parallel(n_jobs=4)]: Using backend LokyBackend with 4 concurrent workers.\n",
      "[Parallel(n_jobs=4)]: Done  42 tasks      | elapsed:   10.5s\n",
      "[Parallel(n_jobs=4)]: Done  90 out of  90 | elapsed:   19.0s finished\n"
     ]
    },
    {
     "name": "stdout",
     "output_type": "stream",
     "text": [
      "Fitting 5 folds for each of 18 candidates, totalling 90 fits\n"
     ]
    },
    {
     "name": "stderr",
     "output_type": "stream",
     "text": [
      "[Parallel(n_jobs=4)]: Using backend LokyBackend with 4 concurrent workers.\n",
      "[Parallel(n_jobs=4)]: Done  42 tasks      | elapsed:    7.5s\n",
      "[Parallel(n_jobs=4)]: Done  90 out of  90 | elapsed:   14.2s finished\n"
     ]
    },
    {
     "name": "stdout",
     "output_type": "stream",
     "text": [
      "Fitting 5 folds for each of 18 candidates, totalling 90 fits\n"
     ]
    },
    {
     "name": "stderr",
     "output_type": "stream",
     "text": [
      "[Parallel(n_jobs=4)]: Using backend LokyBackend with 4 concurrent workers.\n",
      "[Parallel(n_jobs=4)]: Done  42 tasks      | elapsed:    8.6s\n",
      "[Parallel(n_jobs=4)]: Done  90 out of  90 | elapsed:   14.8s finished\n"
     ]
    },
    {
     "name": "stdout",
     "output_type": "stream",
     "text": [
      "Fitting 5 folds for each of 18 candidates, totalling 90 fits\n"
     ]
    },
    {
     "name": "stderr",
     "output_type": "stream",
     "text": [
      "[Parallel(n_jobs=4)]: Using backend LokyBackend with 4 concurrent workers.\n",
      "[Parallel(n_jobs=4)]: Done  42 tasks      | elapsed:    5.8s\n",
      "[Parallel(n_jobs=4)]: Done  90 out of  90 | elapsed:   10.8s finished\n"
     ]
    },
    {
     "name": "stdout",
     "output_type": "stream",
     "text": [
      "Fitting 5 folds for each of 18 candidates, totalling 90 fits\n"
     ]
    },
    {
     "name": "stderr",
     "output_type": "stream",
     "text": [
      "[Parallel(n_jobs=4)]: Using backend LokyBackend with 4 concurrent workers.\n",
      "[Parallel(n_jobs=4)]: Done  42 tasks      | elapsed:    3.8s\n",
      "[Parallel(n_jobs=4)]: Done  90 out of  90 | elapsed:    7.6s finished\n"
     ]
    },
    {
     "name": "stdout",
     "output_type": "stream",
     "text": [
      "Fitting 5 folds for each of 18 candidates, totalling 90 fits\n"
     ]
    },
    {
     "name": "stderr",
     "output_type": "stream",
     "text": [
      "[Parallel(n_jobs=4)]: Using backend LokyBackend with 4 concurrent workers.\n",
      "[Parallel(n_jobs=4)]: Done  42 tasks      | elapsed:    4.6s\n",
      "[Parallel(n_jobs=4)]: Done  90 out of  90 | elapsed:    9.0s finished\n"
     ]
    },
    {
     "name": "stdout",
     "output_type": "stream",
     "text": [
      "Fitting 5 folds for each of 18 candidates, totalling 90 fits\n"
     ]
    },
    {
     "name": "stderr",
     "output_type": "stream",
     "text": [
      "[Parallel(n_jobs=4)]: Using backend LokyBackend with 4 concurrent workers.\n",
      "[Parallel(n_jobs=4)]: Done  42 tasks      | elapsed:    6.2s\n",
      "[Parallel(n_jobs=4)]: Done  90 out of  90 | elapsed:   11.3s finished\n"
     ]
    }
   ],
   "source": [
    "for i, features in enumerate(features_list):\n",
    "    model = RandomForestClassifier(random_state=0)\n",
    "    scores = run_model(df, features, target, params, model, model_name+str(i))\n",
    "    scores_series = pd.Series(scores, index=scores_df.columns)\n",
    "    scores_df = scores_df.append(scores_series, ignore_index=True)"
   ]
  },
  {
   "cell_type": "markdown",
   "metadata": {},
   "source": [
    "### Linear Discriminant Analysis (LDA)"
   ]
  },
  {
   "cell_type": "code",
   "execution_count": 155,
   "metadata": {},
   "outputs": [],
   "source": [
    "# https://machinelearningmastery.com/linear-discriminant-analysis-with-python/"
   ]
  },
  {
   "cell_type": "code",
   "execution_count": 156,
   "metadata": {},
   "outputs": [],
   "source": [
    "model_name = 'lda'\n",
    "params = { \n",
    "    'solver' : ['svd', 'lsqr', 'eigen']\n",
    "}"
   ]
  },
  {
   "cell_type": "code",
   "execution_count": 157,
   "metadata": {},
   "outputs": [
    {
     "name": "stdout",
     "output_type": "stream",
     "text": [
      "Fitting 5 folds for each of 3 candidates, totalling 15 fits\n",
      "Fitting 5 folds for each of 3 candidates, totalling 15 fits\n"
     ]
    },
    {
     "name": "stderr",
     "output_type": "stream",
     "text": [
      "[Parallel(n_jobs=4)]: Using backend LokyBackend with 4 concurrent workers.\n",
      "[Parallel(n_jobs=4)]: Done  15 out of  15 | elapsed:    0.1s finished\n",
      "[Parallel(n_jobs=4)]: Using backend LokyBackend with 4 concurrent workers.\n",
      "[Parallel(n_jobs=4)]: Done  15 out of  15 | elapsed:    0.1s finished\n",
      "[Parallel(n_jobs=4)]: Using backend LokyBackend with 4 concurrent workers.\n",
      "[Parallel(n_jobs=4)]: Done  15 out of  15 | elapsed:    0.1s finished\n",
      "[Parallel(n_jobs=4)]: Using backend LokyBackend with 4 concurrent workers.\n"
     ]
    },
    {
     "name": "stdout",
     "output_type": "stream",
     "text": [
      "Fitting 5 folds for each of 3 candidates, totalling 15 fits\n",
      "Fitting 5 folds for each of 3 candidates, totalling 15 fits\n"
     ]
    },
    {
     "name": "stderr",
     "output_type": "stream",
     "text": [
      "[Parallel(n_jobs=4)]: Done  15 out of  15 | elapsed:    0.1s finished\n",
      "[Parallel(n_jobs=4)]: Using backend LokyBackend with 4 concurrent workers.\n",
      "[Parallel(n_jobs=4)]: Done  15 out of  15 | elapsed:    0.1s finished\n",
      "[Parallel(n_jobs=4)]: Using backend LokyBackend with 4 concurrent workers.\n"
     ]
    },
    {
     "name": "stdout",
     "output_type": "stream",
     "text": [
      "Fitting 5 folds for each of 3 candidates, totalling 15 fits\n",
      "Fitting 5 folds for each of 3 candidates, totalling 15 fits\n"
     ]
    },
    {
     "name": "stderr",
     "output_type": "stream",
     "text": [
      "[Parallel(n_jobs=4)]: Done  15 out of  15 | elapsed:    0.1s finished\n",
      "[Parallel(n_jobs=4)]: Using backend LokyBackend with 4 concurrent workers.\n",
      "[Parallel(n_jobs=4)]: Done  15 out of  15 | elapsed:    0.1s finished\n",
      "[Parallel(n_jobs=4)]: Using backend LokyBackend with 4 concurrent workers.\n"
     ]
    },
    {
     "name": "stdout",
     "output_type": "stream",
     "text": [
      "Fitting 5 folds for each of 3 candidates, totalling 15 fits\n",
      "Fitting 5 folds for each of 3 candidates, totalling 15 fits\n",
      "Fitting 5 folds for each of 3 candidates, totalling 15 fits\n"
     ]
    },
    {
     "name": "stderr",
     "output_type": "stream",
     "text": [
      "[Parallel(n_jobs=4)]: Done  15 out of  15 | elapsed:    0.1s finished\n",
      "[Parallel(n_jobs=4)]: Using backend LokyBackend with 4 concurrent workers.\n",
      "[Parallel(n_jobs=4)]: Done  15 out of  15 | elapsed:    0.1s finished\n"
     ]
    }
   ],
   "source": [
    "for i, features in enumerate(features_list):\n",
    "    model = LinearDiscriminantAnalysis()\n",
    "    scores = run_model(df, features, target, params, model, model_name+str(i))\n",
    "    scores_series = pd.Series(scores, index=scores_df.columns)\n",
    "    scores_df = scores_df.append(scores_series, ignore_index=True)"
   ]
  },
  {
   "cell_type": "markdown",
   "metadata": {},
   "source": [
    "### Classification and Regression Trees (CART)"
   ]
  },
  {
   "cell_type": "code",
   "execution_count": 158,
   "metadata": {},
   "outputs": [],
   "source": [
    "# https://www.datacamp.com/community/tutorials/decision-tree-classification-python"
   ]
  },
  {
   "cell_type": "code",
   "execution_count": 159,
   "metadata": {},
   "outputs": [],
   "source": [
    "model_name = 'cart'\n",
    "params = { \n",
    "    'max_depth' : [None, 2, 5],\n",
    "    'max_features' : ['auto', 'sqrt', 'log2']\n",
    "}"
   ]
  },
  {
   "cell_type": "code",
   "execution_count": 160,
   "metadata": {},
   "outputs": [
    {
     "name": "stderr",
     "output_type": "stream",
     "text": [
      "[Parallel(n_jobs=4)]: Using backend LokyBackend with 4 concurrent workers.\n"
     ]
    },
    {
     "name": "stdout",
     "output_type": "stream",
     "text": [
      "Fitting 5 folds for each of 9 candidates, totalling 45 fits\n"
     ]
    },
    {
     "name": "stderr",
     "output_type": "stream",
     "text": [
      "[Parallel(n_jobs=4)]: Done  45 out of  45 | elapsed:    0.2s finished\n",
      "[Parallel(n_jobs=4)]: Using backend LokyBackend with 4 concurrent workers.\n"
     ]
    },
    {
     "name": "stdout",
     "output_type": "stream",
     "text": [
      "Fitting 5 folds for each of 9 candidates, totalling 45 fits\n",
      "Fitting 5 folds for each of 9 candidates, totalling 45 fits\n"
     ]
    },
    {
     "name": "stderr",
     "output_type": "stream",
     "text": [
      "[Parallel(n_jobs=4)]: Done  45 out of  45 | elapsed:    0.2s finished\n",
      "[Parallel(n_jobs=4)]: Using backend LokyBackend with 4 concurrent workers.\n",
      "[Parallel(n_jobs=4)]: Done  45 out of  45 | elapsed:    0.2s finished\n",
      "[Parallel(n_jobs=4)]: Using backend LokyBackend with 4 concurrent workers.\n",
      "[Parallel(n_jobs=4)]: Done  45 out of  45 | elapsed:    0.2s finished\n"
     ]
    },
    {
     "name": "stdout",
     "output_type": "stream",
     "text": [
      "Fitting 5 folds for each of 9 candidates, totalling 45 fits\n",
      "Fitting 5 folds for each of 9 candidates, totalling 45 fits\n"
     ]
    },
    {
     "name": "stderr",
     "output_type": "stream",
     "text": [
      "[Parallel(n_jobs=4)]: Using backend LokyBackend with 4 concurrent workers.\n",
      "[Parallel(n_jobs=4)]: Done  45 out of  45 | elapsed:    0.1s finished\n",
      "[Parallel(n_jobs=4)]: Using backend LokyBackend with 4 concurrent workers.\n"
     ]
    },
    {
     "name": "stdout",
     "output_type": "stream",
     "text": [
      "Fitting 5 folds for each of 9 candidates, totalling 45 fits\n",
      "Fitting 5 folds for each of 9 candidates, totalling 45 fits\n"
     ]
    },
    {
     "name": "stderr",
     "output_type": "stream",
     "text": [
      "[Parallel(n_jobs=4)]: Done  45 out of  45 | elapsed:    0.1s finished\n",
      "[Parallel(n_jobs=4)]: Using backend LokyBackend with 4 concurrent workers.\n",
      "[Parallel(n_jobs=4)]: Done  45 out of  45 | elapsed:    0.1s finished\n",
      "[Parallel(n_jobs=4)]: Using backend LokyBackend with 4 concurrent workers.\n"
     ]
    },
    {
     "name": "stdout",
     "output_type": "stream",
     "text": [
      "Fitting 5 folds for each of 9 candidates, totalling 45 fits\n",
      "Fitting 5 folds for each of 9 candidates, totalling 45 fits\n"
     ]
    },
    {
     "name": "stderr",
     "output_type": "stream",
     "text": [
      "[Parallel(n_jobs=4)]: Done  38 out of  45 | elapsed:    0.1s remaining:    0.0s\n",
      "[Parallel(n_jobs=4)]: Done  45 out of  45 | elapsed:    0.1s finished\n",
      "[Parallel(n_jobs=4)]: Using backend LokyBackend with 4 concurrent workers.\n",
      "[Parallel(n_jobs=4)]: Done  45 out of  45 | elapsed:    0.1s finished\n"
     ]
    }
   ],
   "source": [
    "for i, features in enumerate(features_list):\n",
    "    model = DecisionTreeClassifier(random_state=0)\n",
    "    scores = run_model(df, features, target, params, model, model_name+str(i))\n",
    "    scores_series = pd.Series(scores, index=scores_df.columns)\n",
    "    scores_df = scores_df.append(scores_series, ignore_index=True)"
   ]
  },
  {
   "cell_type": "markdown",
   "metadata": {},
   "source": [
    "### Gradient Boosting Machine (GBM)"
   ]
  },
  {
   "cell_type": "code",
   "execution_count": 161,
   "metadata": {},
   "outputs": [],
   "source": [
    "# https://machinelearningmastery.com/gradient-boosting-machine-ensemble-in-python/"
   ]
  },
  {
   "cell_type": "code",
   "execution_count": 162,
   "metadata": {},
   "outputs": [],
   "source": [
    "model_name = 'gbm'\n",
    "params = { \n",
    "    'learning_rate' : [0.1, 0.2, 0.3],\n",
    "    'n_estimators' : [100, 200],\n",
    "    'max_depth' : [3, 5]\n",
    "}"
   ]
  },
  {
   "cell_type": "code",
   "execution_count": 163,
   "metadata": {},
   "outputs": [
    {
     "name": "stdout",
     "output_type": "stream",
     "text": [
      "Fitting 5 folds for each of 12 candidates, totalling 60 fits\n"
     ]
    },
    {
     "name": "stderr",
     "output_type": "stream",
     "text": [
      "[Parallel(n_jobs=4)]: Using backend LokyBackend with 4 concurrent workers.\n",
      "[Parallel(n_jobs=4)]: Done  42 tasks      | elapsed:   16.5s\n",
      "[Parallel(n_jobs=4)]: Done  60 out of  60 | elapsed:   25.3s finished\n"
     ]
    },
    {
     "name": "stdout",
     "output_type": "stream",
     "text": [
      "Fitting 5 folds for each of 12 candidates, totalling 60 fits\n"
     ]
    },
    {
     "name": "stderr",
     "output_type": "stream",
     "text": [
      "[Parallel(n_jobs=4)]: Using backend LokyBackend with 4 concurrent workers.\n",
      "[Parallel(n_jobs=4)]: Done  42 tasks      | elapsed:   12.5s\n",
      "[Parallel(n_jobs=4)]: Done  60 out of  60 | elapsed:   19.3s finished\n"
     ]
    },
    {
     "name": "stdout",
     "output_type": "stream",
     "text": [
      "Fitting 5 folds for each of 12 candidates, totalling 60 fits\n"
     ]
    },
    {
     "name": "stderr",
     "output_type": "stream",
     "text": [
      "[Parallel(n_jobs=4)]: Using backend LokyBackend with 4 concurrent workers.\n",
      "[Parallel(n_jobs=4)]: Done  42 tasks      | elapsed:   15.2s\n",
      "[Parallel(n_jobs=4)]: Done  60 out of  60 | elapsed:   23.6s finished\n"
     ]
    },
    {
     "name": "stdout",
     "output_type": "stream",
     "text": [
      "Fitting 5 folds for each of 12 candidates, totalling 60 fits\n"
     ]
    },
    {
     "name": "stderr",
     "output_type": "stream",
     "text": [
      "[Parallel(n_jobs=4)]: Using backend LokyBackend with 4 concurrent workers.\n",
      "[Parallel(n_jobs=4)]: Done  42 tasks      | elapsed:   12.5s\n",
      "[Parallel(n_jobs=4)]: Done  60 out of  60 | elapsed:   19.4s finished\n"
     ]
    },
    {
     "name": "stdout",
     "output_type": "stream",
     "text": [
      "Fitting 5 folds for each of 12 candidates, totalling 60 fits\n"
     ]
    },
    {
     "name": "stderr",
     "output_type": "stream",
     "text": [
      "[Parallel(n_jobs=4)]: Using backend LokyBackend with 4 concurrent workers.\n",
      "[Parallel(n_jobs=4)]: Done  42 tasks      | elapsed:   11.3s\n",
      "[Parallel(n_jobs=4)]: Done  60 out of  60 | elapsed:   17.4s finished\n"
     ]
    },
    {
     "name": "stdout",
     "output_type": "stream",
     "text": [
      "Fitting 5 folds for each of 12 candidates, totalling 60 fits\n"
     ]
    },
    {
     "name": "stderr",
     "output_type": "stream",
     "text": [
      "[Parallel(n_jobs=4)]: Using backend LokyBackend with 4 concurrent workers.\n",
      "[Parallel(n_jobs=4)]: Done  42 tasks      | elapsed:    8.2s\n",
      "[Parallel(n_jobs=4)]: Done  60 out of  60 | elapsed:   12.5s finished\n"
     ]
    },
    {
     "name": "stdout",
     "output_type": "stream",
     "text": [
      "Fitting 5 folds for each of 12 candidates, totalling 60 fits\n"
     ]
    },
    {
     "name": "stderr",
     "output_type": "stream",
     "text": [
      "[Parallel(n_jobs=4)]: Using backend LokyBackend with 4 concurrent workers.\n",
      "[Parallel(n_jobs=4)]: Done  42 tasks      | elapsed:    5.9s\n",
      "[Parallel(n_jobs=4)]: Done  60 out of  60 | elapsed:    8.9s finished\n"
     ]
    },
    {
     "name": "stdout",
     "output_type": "stream",
     "text": [
      "Fitting 5 folds for each of 12 candidates, totalling 60 fits\n"
     ]
    },
    {
     "name": "stderr",
     "output_type": "stream",
     "text": [
      "[Parallel(n_jobs=4)]: Using backend LokyBackend with 4 concurrent workers.\n",
      "[Parallel(n_jobs=4)]: Done  42 tasks      | elapsed:    7.4s\n",
      "[Parallel(n_jobs=4)]: Done  60 out of  60 | elapsed:   11.8s finished\n"
     ]
    },
    {
     "name": "stdout",
     "output_type": "stream",
     "text": [
      "Fitting 5 folds for each of 12 candidates, totalling 60 fits\n"
     ]
    },
    {
     "name": "stderr",
     "output_type": "stream",
     "text": [
      "[Parallel(n_jobs=4)]: Using backend LokyBackend with 4 concurrent workers.\n",
      "[Parallel(n_jobs=4)]: Done  42 tasks      | elapsed:    8.6s\n",
      "[Parallel(n_jobs=4)]: Done  60 out of  60 | elapsed:   13.1s finished\n"
     ]
    }
   ],
   "source": [
    "for i, features in enumerate(features_list):\n",
    "    model = GradientBoostingClassifier(random_state=0)\n",
    "    scores = run_model(df, features, target, params, model, model_name+str(i))\n",
    "    scores_series = pd.Series(scores, index=scores_df.columns)\n",
    "    scores_df = scores_df.append(scores_series, ignore_index=True)"
   ]
  },
  {
   "cell_type": "markdown",
   "metadata": {},
   "source": [
    "### K-Nearest Neighbor (KNN)"
   ]
  },
  {
   "cell_type": "code",
   "execution_count": 17,
   "metadata": {},
   "outputs": [],
   "source": [
    "model_name = 'knn'\n",
    "params = { \n",
    "    'n_neighbors' : [3, 5, 10],\n",
    "    'p' : [1,2],\n",
    "    'leaf_size' : [1, 5, 10]\n",
    "}"
   ]
  },
  {
   "cell_type": "code",
   "execution_count": 18,
   "metadata": {},
   "outputs": [
    {
     "name": "stdout",
     "output_type": "stream",
     "text": [
      "Fitting 5 folds for each of 18 candidates, totalling 90 fits\n"
     ]
    },
    {
     "name": "stderr",
     "output_type": "stream",
     "text": [
      "[Parallel(n_jobs=4)]: Using backend LokyBackend with 4 concurrent workers.\n",
      "[Parallel(n_jobs=4)]: Done  76 tasks      | elapsed:    1.8s\n",
      "[Parallel(n_jobs=4)]: Done  90 out of  90 | elapsed:    2.0s finished\n"
     ]
    },
    {
     "name": "stdout",
     "output_type": "stream",
     "text": [
      "Fitting 5 folds for each of 18 candidates, totalling 90 fits\n"
     ]
    },
    {
     "name": "stderr",
     "output_type": "stream",
     "text": [
      "[Parallel(n_jobs=4)]: Using backend LokyBackend with 4 concurrent workers.\n",
      "[Parallel(n_jobs=4)]: Done  76 tasks      | elapsed:    1.7s\n",
      "[Parallel(n_jobs=4)]: Done  90 out of  90 | elapsed:    1.9s finished\n"
     ]
    },
    {
     "name": "stdout",
     "output_type": "stream",
     "text": [
      "Fitting 5 folds for each of 18 candidates, totalling 90 fits\n"
     ]
    },
    {
     "name": "stderr",
     "output_type": "stream",
     "text": [
      "[Parallel(n_jobs=4)]: Using backend LokyBackend with 4 concurrent workers.\n",
      "[Parallel(n_jobs=4)]: Done  76 tasks      | elapsed:    1.4s\n",
      "[Parallel(n_jobs=4)]: Done  90 out of  90 | elapsed:    1.7s finished\n"
     ]
    },
    {
     "name": "stdout",
     "output_type": "stream",
     "text": [
      "Fitting 5 folds for each of 18 candidates, totalling 90 fits\n"
     ]
    },
    {
     "name": "stderr",
     "output_type": "stream",
     "text": [
      "[Parallel(n_jobs=4)]: Using backend LokyBackend with 4 concurrent workers.\n",
      "[Parallel(n_jobs=4)]: Done  76 tasks      | elapsed:    2.0s\n",
      "[Parallel(n_jobs=4)]: Done  90 out of  90 | elapsed:    2.3s finished\n"
     ]
    },
    {
     "name": "stdout",
     "output_type": "stream",
     "text": [
      "Fitting 5 folds for each of 18 candidates, totalling 90 fits\n"
     ]
    },
    {
     "name": "stderr",
     "output_type": "stream",
     "text": [
      "[Parallel(n_jobs=4)]: Using backend LokyBackend with 4 concurrent workers.\n",
      "[Parallel(n_jobs=4)]: Done  76 tasks      | elapsed:    1.4s\n",
      "[Parallel(n_jobs=4)]: Done  90 out of  90 | elapsed:    1.6s finished\n"
     ]
    },
    {
     "name": "stdout",
     "output_type": "stream",
     "text": [
      "Fitting 5 folds for each of 18 candidates, totalling 90 fits\n"
     ]
    },
    {
     "name": "stderr",
     "output_type": "stream",
     "text": [
      "[Parallel(n_jobs=4)]: Using backend LokyBackend with 4 concurrent workers.\n",
      "[Parallel(n_jobs=4)]: Done  76 tasks      | elapsed:    1.3s\n",
      "[Parallel(n_jobs=4)]: Done  90 out of  90 | elapsed:    1.5s finished\n"
     ]
    },
    {
     "name": "stdout",
     "output_type": "stream",
     "text": [
      "Fitting 5 folds for each of 18 candidates, totalling 90 fits\n"
     ]
    },
    {
     "name": "stderr",
     "output_type": "stream",
     "text": [
      "[Parallel(n_jobs=4)]: Using backend LokyBackend with 4 concurrent workers.\n",
      "[Parallel(n_jobs=4)]: Done  76 tasks      | elapsed:    2.0s\n",
      "[Parallel(n_jobs=4)]: Done  90 out of  90 | elapsed:    2.3s finished\n"
     ]
    },
    {
     "name": "stdout",
     "output_type": "stream",
     "text": [
      "Fitting 5 folds for each of 18 candidates, totalling 90 fits\n"
     ]
    },
    {
     "name": "stderr",
     "output_type": "stream",
     "text": [
      "[Parallel(n_jobs=4)]: Using backend LokyBackend with 4 concurrent workers.\n",
      "[Parallel(n_jobs=4)]: Done  76 tasks      | elapsed:    1.7s\n",
      "[Parallel(n_jobs=4)]: Done  90 out of  90 | elapsed:    2.0s finished\n"
     ]
    },
    {
     "name": "stdout",
     "output_type": "stream",
     "text": [
      "Fitting 5 folds for each of 18 candidates, totalling 90 fits\n"
     ]
    },
    {
     "name": "stderr",
     "output_type": "stream",
     "text": [
      "[Parallel(n_jobs=4)]: Using backend LokyBackend with 4 concurrent workers.\n",
      "[Parallel(n_jobs=4)]: Done  76 tasks      | elapsed:    1.3s\n",
      "[Parallel(n_jobs=4)]: Done  90 out of  90 | elapsed:    1.5s finished\n"
     ]
    }
   ],
   "source": [
    "for i, features in enumerate(features_list):\n",
    "    model = KNeighborsClassifier()    \n",
    "    scores = run_model(df, features, target, params, model, model_name+str(i))\n",
    "    scores_series = pd.Series(scores, index=scores_df.columns)\n",
    "    scores_df = scores_df.append(scores_series, ignore_index=True)"
   ]
  },
  {
   "cell_type": "markdown",
   "metadata": {},
   "source": [
    "### Model summary table."
   ]
  },
  {
   "cell_type": "code",
   "execution_count": 19,
   "metadata": {},
   "outputs": [
    {
     "data": {
      "text/html": [
       "<div>\n",
       "<style scoped>\n",
       "    .dataframe tbody tr th:only-of-type {\n",
       "        vertical-align: middle;\n",
       "    }\n",
       "\n",
       "    .dataframe tbody tr th {\n",
       "        vertical-align: top;\n",
       "    }\n",
       "\n",
       "    .dataframe thead th {\n",
       "        text-align: right;\n",
       "    }\n",
       "</style>\n",
       "<table border=\"1\" class=\"dataframe\">\n",
       "  <thead>\n",
       "    <tr style=\"text-align: right;\">\n",
       "      <th></th>\n",
       "      <th>Model name</th>\n",
       "      <th>Features</th>\n",
       "      <th>Best score</th>\n",
       "      <th>Train score</th>\n",
       "      <th>Test score</th>\n",
       "      <th>Sensitivity</th>\n",
       "      <th>Specificity</th>\n",
       "      <th>Precision</th>\n",
       "      <th>Accuracy</th>\n",
       "      <th>F1-score</th>\n",
       "    </tr>\n",
       "  </thead>\n",
       "  <tbody>\n",
       "    <tr>\n",
       "      <th>0</th>\n",
       "      <td>knn0</td>\n",
       "      <td>temperature, humidity, light, co2, humidity_ratio</td>\n",
       "      <td>0.9906</td>\n",
       "      <td>0.9931</td>\n",
       "      <td>0.9926</td>\n",
       "      <td>0.9915</td>\n",
       "      <td>0.9929</td>\n",
       "      <td>0.9740</td>\n",
       "      <td>0.9926</td>\n",
       "      <td>0.9827</td>\n",
       "    </tr>\n",
       "    <tr>\n",
       "      <th>1</th>\n",
       "      <td>knn1</td>\n",
       "      <td>temperature, humidity, light, co2</td>\n",
       "      <td>0.9906</td>\n",
       "      <td>0.9931</td>\n",
       "      <td>0.9926</td>\n",
       "      <td>0.9915</td>\n",
       "      <td>0.9929</td>\n",
       "      <td>0.9740</td>\n",
       "      <td>0.9926</td>\n",
       "      <td>0.9827</td>\n",
       "    </tr>\n",
       "    <tr>\n",
       "      <th>2</th>\n",
       "      <td>knn2</td>\n",
       "      <td>temperature, humidity, co2, humidity_ratio</td>\n",
       "      <td>0.9271</td>\n",
       "      <td>0.9510</td>\n",
       "      <td>0.9363</td>\n",
       "      <td>0.8392</td>\n",
       "      <td>0.9623</td>\n",
       "      <td>0.8564</td>\n",
       "      <td>0.9363</td>\n",
       "      <td>0.8477</td>\n",
       "    </tr>\n",
       "    <tr>\n",
       "      <th>3</th>\n",
       "      <td>knn3</td>\n",
       "      <td>temperature, humidity, light, humidity_ratio</td>\n",
       "      <td>0.9902</td>\n",
       "      <td>0.9913</td>\n",
       "      <td>0.9913</td>\n",
       "      <td>0.9915</td>\n",
       "      <td>0.9912</td>\n",
       "      <td>0.9680</td>\n",
       "      <td>0.9913</td>\n",
       "      <td>0.9796</td>\n",
       "    </tr>\n",
       "    <tr>\n",
       "      <th>4</th>\n",
       "      <td>knn4</td>\n",
       "      <td>temperature, humidity, humidity_ratio</td>\n",
       "      <td>0.9540</td>\n",
       "      <td>0.9691</td>\n",
       "      <td>0.9528</td>\n",
       "      <td>0.8857</td>\n",
       "      <td>0.9708</td>\n",
       "      <td>0.8904</td>\n",
       "      <td>0.9528</td>\n",
       "      <td>0.8881</td>\n",
       "    </tr>\n",
       "    <tr>\n",
       "      <th>5</th>\n",
       "      <td>knn5</td>\n",
       "      <td>temperature, humidity</td>\n",
       "      <td>0.9537</td>\n",
       "      <td>0.9686</td>\n",
       "      <td>0.9535</td>\n",
       "      <td>0.8825</td>\n",
       "      <td>0.9725</td>\n",
       "      <td>0.8958</td>\n",
       "      <td>0.9535</td>\n",
       "      <td>0.8891</td>\n",
       "    </tr>\n",
       "    <tr>\n",
       "      <th>6</th>\n",
       "      <td>knn6</td>\n",
       "      <td>temperature, light</td>\n",
       "      <td>0.9907</td>\n",
       "      <td>0.9908</td>\n",
       "      <td>0.9913</td>\n",
       "      <td>0.9915</td>\n",
       "      <td>0.9912</td>\n",
       "      <td>0.9680</td>\n",
       "      <td>0.9913</td>\n",
       "      <td>0.9796</td>\n",
       "    </tr>\n",
       "    <tr>\n",
       "      <th>7</th>\n",
       "      <td>knn7</td>\n",
       "      <td>humidity, light</td>\n",
       "      <td>0.9901</td>\n",
       "      <td>0.9911</td>\n",
       "      <td>0.9911</td>\n",
       "      <td>0.9915</td>\n",
       "      <td>0.9909</td>\n",
       "      <td>0.9670</td>\n",
       "      <td>0.9911</td>\n",
       "      <td>0.9791</td>\n",
       "    </tr>\n",
       "    <tr>\n",
       "      <th>8</th>\n",
       "      <td>knn8</td>\n",
       "      <td>temperature, co2</td>\n",
       "      <td>0.9046</td>\n",
       "      <td>0.9318</td>\n",
       "      <td>0.9122</td>\n",
       "      <td>0.7651</td>\n",
       "      <td>0.9515</td>\n",
       "      <td>0.8087</td>\n",
       "      <td>0.9122</td>\n",
       "      <td>0.7863</td>\n",
       "    </tr>\n",
       "    <tr>\n",
       "      <th>9</th>\n",
       "      <td>knn0</td>\n",
       "      <td>temperature, humidity, light, co2, humidity_ratio</td>\n",
       "      <td>0.9908</td>\n",
       "      <td>0.9945</td>\n",
       "      <td>0.9926</td>\n",
       "      <td>0.9894</td>\n",
       "      <td>0.9935</td>\n",
       "      <td>0.9760</td>\n",
       "      <td>0.9926</td>\n",
       "      <td>0.9827</td>\n",
       "    </tr>\n",
       "    <tr>\n",
       "      <th>10</th>\n",
       "      <td>knn1</td>\n",
       "      <td>temperature, humidity, light, co2</td>\n",
       "      <td>0.9908</td>\n",
       "      <td>0.9945</td>\n",
       "      <td>0.9926</td>\n",
       "      <td>0.9894</td>\n",
       "      <td>0.9935</td>\n",
       "      <td>0.9760</td>\n",
       "      <td>0.9926</td>\n",
       "      <td>0.9827</td>\n",
       "    </tr>\n",
       "    <tr>\n",
       "      <th>11</th>\n",
       "      <td>knn2</td>\n",
       "      <td>temperature, humidity, co2, humidity_ratio</td>\n",
       "      <td>0.9308</td>\n",
       "      <td>0.9660</td>\n",
       "      <td>0.9399</td>\n",
       "      <td>0.8582</td>\n",
       "      <td>0.9617</td>\n",
       "      <td>0.8573</td>\n",
       "      <td>0.9399</td>\n",
       "      <td>0.8577</td>\n",
       "    </tr>\n",
       "    <tr>\n",
       "      <th>12</th>\n",
       "      <td>knn3</td>\n",
       "      <td>temperature, humidity, light, humidity_ratio</td>\n",
       "      <td>0.9908</td>\n",
       "      <td>0.9908</td>\n",
       "      <td>0.9911</td>\n",
       "      <td>0.9915</td>\n",
       "      <td>0.9909</td>\n",
       "      <td>0.9670</td>\n",
       "      <td>0.9911</td>\n",
       "      <td>0.9791</td>\n",
       "    </tr>\n",
       "    <tr>\n",
       "      <th>13</th>\n",
       "      <td>knn4</td>\n",
       "      <td>temperature, humidity, humidity_ratio</td>\n",
       "      <td>0.9540</td>\n",
       "      <td>0.9691</td>\n",
       "      <td>0.9528</td>\n",
       "      <td>0.8857</td>\n",
       "      <td>0.9708</td>\n",
       "      <td>0.8904</td>\n",
       "      <td>0.9528</td>\n",
       "      <td>0.8881</td>\n",
       "    </tr>\n",
       "    <tr>\n",
       "      <th>14</th>\n",
       "      <td>knn5</td>\n",
       "      <td>temperature, humidity</td>\n",
       "      <td>0.9537</td>\n",
       "      <td>0.9686</td>\n",
       "      <td>0.9535</td>\n",
       "      <td>0.8825</td>\n",
       "      <td>0.9725</td>\n",
       "      <td>0.8958</td>\n",
       "      <td>0.9535</td>\n",
       "      <td>0.8891</td>\n",
       "    </tr>\n",
       "    <tr>\n",
       "      <th>15</th>\n",
       "      <td>knn6</td>\n",
       "      <td>temperature, light</td>\n",
       "      <td>0.9908</td>\n",
       "      <td>0.9907</td>\n",
       "      <td>0.9911</td>\n",
       "      <td>0.9915</td>\n",
       "      <td>0.9909</td>\n",
       "      <td>0.9670</td>\n",
       "      <td>0.9911</td>\n",
       "      <td>0.9791</td>\n",
       "    </tr>\n",
       "    <tr>\n",
       "      <th>16</th>\n",
       "      <td>knn7</td>\n",
       "      <td>humidity, light</td>\n",
       "      <td>0.9908</td>\n",
       "      <td>0.9908</td>\n",
       "      <td>0.9911</td>\n",
       "      <td>0.9915</td>\n",
       "      <td>0.9909</td>\n",
       "      <td>0.9670</td>\n",
       "      <td>0.9911</td>\n",
       "      <td>0.9791</td>\n",
       "    </tr>\n",
       "    <tr>\n",
       "      <th>17</th>\n",
       "      <td>knn8</td>\n",
       "      <td>temperature, co2</td>\n",
       "      <td>0.9051</td>\n",
       "      <td>0.9459</td>\n",
       "      <td>0.9133</td>\n",
       "      <td>0.7799</td>\n",
       "      <td>0.9490</td>\n",
       "      <td>0.8037</td>\n",
       "      <td>0.9133</td>\n",
       "      <td>0.7916</td>\n",
       "    </tr>\n",
       "  </tbody>\n",
       "</table>\n",
       "</div>"
      ],
      "text/plain": [
       "   Model name                                           Features  Best score  \\\n",
       "0        knn0  temperature, humidity, light, co2, humidity_ratio      0.9906   \n",
       "1        knn1                  temperature, humidity, light, co2      0.9906   \n",
       "2        knn2         temperature, humidity, co2, humidity_ratio      0.9271   \n",
       "3        knn3       temperature, humidity, light, humidity_ratio      0.9902   \n",
       "4        knn4              temperature, humidity, humidity_ratio      0.9540   \n",
       "5        knn5                              temperature, humidity      0.9537   \n",
       "6        knn6                                 temperature, light      0.9907   \n",
       "7        knn7                                    humidity, light      0.9901   \n",
       "8        knn8                                   temperature, co2      0.9046   \n",
       "9        knn0  temperature, humidity, light, co2, humidity_ratio      0.9908   \n",
       "10       knn1                  temperature, humidity, light, co2      0.9908   \n",
       "11       knn2         temperature, humidity, co2, humidity_ratio      0.9308   \n",
       "12       knn3       temperature, humidity, light, humidity_ratio      0.9908   \n",
       "13       knn4              temperature, humidity, humidity_ratio      0.9540   \n",
       "14       knn5                              temperature, humidity      0.9537   \n",
       "15       knn6                                 temperature, light      0.9908   \n",
       "16       knn7                                    humidity, light      0.9908   \n",
       "17       knn8                                   temperature, co2      0.9051   \n",
       "\n",
       "    Train score  Test score  Sensitivity  Specificity  Precision  Accuracy  \\\n",
       "0        0.9931      0.9926       0.9915       0.9929     0.9740    0.9926   \n",
       "1        0.9931      0.9926       0.9915       0.9929     0.9740    0.9926   \n",
       "2        0.9510      0.9363       0.8392       0.9623     0.8564    0.9363   \n",
       "3        0.9913      0.9913       0.9915       0.9912     0.9680    0.9913   \n",
       "4        0.9691      0.9528       0.8857       0.9708     0.8904    0.9528   \n",
       "5        0.9686      0.9535       0.8825       0.9725     0.8958    0.9535   \n",
       "6        0.9908      0.9913       0.9915       0.9912     0.9680    0.9913   \n",
       "7        0.9911      0.9911       0.9915       0.9909     0.9670    0.9911   \n",
       "8        0.9318      0.9122       0.7651       0.9515     0.8087    0.9122   \n",
       "9        0.9945      0.9926       0.9894       0.9935     0.9760    0.9926   \n",
       "10       0.9945      0.9926       0.9894       0.9935     0.9760    0.9926   \n",
       "11       0.9660      0.9399       0.8582       0.9617     0.8573    0.9399   \n",
       "12       0.9908      0.9911       0.9915       0.9909     0.9670    0.9911   \n",
       "13       0.9691      0.9528       0.8857       0.9708     0.8904    0.9528   \n",
       "14       0.9686      0.9535       0.8825       0.9725     0.8958    0.9535   \n",
       "15       0.9907      0.9911       0.9915       0.9909     0.9670    0.9911   \n",
       "16       0.9908      0.9911       0.9915       0.9909     0.9670    0.9911   \n",
       "17       0.9459      0.9133       0.7799       0.9490     0.8037    0.9133   \n",
       "\n",
       "    F1-score  \n",
       "0     0.9827  \n",
       "1     0.9827  \n",
       "2     0.8477  \n",
       "3     0.9796  \n",
       "4     0.8881  \n",
       "5     0.8891  \n",
       "6     0.9796  \n",
       "7     0.9791  \n",
       "8     0.7863  \n",
       "9     0.9827  \n",
       "10    0.9827  \n",
       "11    0.8577  \n",
       "12    0.9791  \n",
       "13    0.8881  \n",
       "14    0.8891  \n",
       "15    0.9791  \n",
       "16    0.9791  \n",
       "17    0.7916  "
      ]
     },
     "execution_count": 19,
     "metadata": {},
     "output_type": "execute_result"
    }
   ],
   "source": [
    "scores_df"
   ]
  },
  {
   "cell_type": "code",
   "execution_count": 22,
   "metadata": {},
   "outputs": [
    {
     "data": {
      "text/html": [
       "<div>\n",
       "<style scoped>\n",
       "    .dataframe tbody tr th:only-of-type {\n",
       "        vertical-align: middle;\n",
       "    }\n",
       "\n",
       "    .dataframe tbody tr th {\n",
       "        vertical-align: top;\n",
       "    }\n",
       "\n",
       "    .dataframe thead th {\n",
       "        text-align: right;\n",
       "    }\n",
       "</style>\n",
       "<table border=\"1\" class=\"dataframe\">\n",
       "  <thead>\n",
       "    <tr style=\"text-align: right;\">\n",
       "      <th></th>\n",
       "      <th>Model name</th>\n",
       "      <th>Features</th>\n",
       "      <th>Best score</th>\n",
       "      <th>Train score</th>\n",
       "      <th>Test score</th>\n",
       "      <th>Sensitivity</th>\n",
       "      <th>Specificity</th>\n",
       "      <th>Precision</th>\n",
       "      <th>Accuracy</th>\n",
       "      <th>F1-score</th>\n",
       "    </tr>\n",
       "  </thead>\n",
       "  <tbody>\n",
       "    <tr>\n",
       "      <th>0</th>\n",
       "      <td>knn0</td>\n",
       "      <td>temperature, humidity, light, co2, humidity_ratio</td>\n",
       "      <td>0.9906</td>\n",
       "      <td>0.9931</td>\n",
       "      <td>0.9926</td>\n",
       "      <td>0.9915</td>\n",
       "      <td>0.9929</td>\n",
       "      <td>0.974</td>\n",
       "      <td>0.9926</td>\n",
       "      <td>0.9827</td>\n",
       "    </tr>\n",
       "    <tr>\n",
       "      <th>1</th>\n",
       "      <td>knn1</td>\n",
       "      <td>temperature, humidity, light, co2</td>\n",
       "      <td>0.9906</td>\n",
       "      <td>0.9931</td>\n",
       "      <td>0.9926</td>\n",
       "      <td>0.9915</td>\n",
       "      <td>0.9929</td>\n",
       "      <td>0.974</td>\n",
       "      <td>0.9926</td>\n",
       "      <td>0.9827</td>\n",
       "    </tr>\n",
       "    <tr>\n",
       "      <th>10</th>\n",
       "      <td>knn1</td>\n",
       "      <td>temperature, humidity, light, co2</td>\n",
       "      <td>0.9908</td>\n",
       "      <td>0.9945</td>\n",
       "      <td>0.9926</td>\n",
       "      <td>0.9894</td>\n",
       "      <td>0.9935</td>\n",
       "      <td>0.976</td>\n",
       "      <td>0.9926</td>\n",
       "      <td>0.9827</td>\n",
       "    </tr>\n",
       "    <tr>\n",
       "      <th>9</th>\n",
       "      <td>knn0</td>\n",
       "      <td>temperature, humidity, light, co2, humidity_ratio</td>\n",
       "      <td>0.9908</td>\n",
       "      <td>0.9945</td>\n",
       "      <td>0.9926</td>\n",
       "      <td>0.9894</td>\n",
       "      <td>0.9935</td>\n",
       "      <td>0.976</td>\n",
       "      <td>0.9926</td>\n",
       "      <td>0.9827</td>\n",
       "    </tr>\n",
       "    <tr>\n",
       "      <th>6</th>\n",
       "      <td>knn6</td>\n",
       "      <td>temperature, light</td>\n",
       "      <td>0.9907</td>\n",
       "      <td>0.9908</td>\n",
       "      <td>0.9913</td>\n",
       "      <td>0.9915</td>\n",
       "      <td>0.9912</td>\n",
       "      <td>0.968</td>\n",
       "      <td>0.9913</td>\n",
       "      <td>0.9796</td>\n",
       "    </tr>\n",
       "  </tbody>\n",
       "</table>\n",
       "</div>"
      ],
      "text/plain": [
       "   Model name                                           Features  Best score  \\\n",
       "0        knn0  temperature, humidity, light, co2, humidity_ratio      0.9906   \n",
       "1        knn1                  temperature, humidity, light, co2      0.9906   \n",
       "10       knn1                  temperature, humidity, light, co2      0.9908   \n",
       "9        knn0  temperature, humidity, light, co2, humidity_ratio      0.9908   \n",
       "6        knn6                                 temperature, light      0.9907   \n",
       "\n",
       "    Train score  Test score  Sensitivity  Specificity  Precision  Accuracy  \\\n",
       "0        0.9931      0.9926       0.9915       0.9929      0.974    0.9926   \n",
       "1        0.9931      0.9926       0.9915       0.9929      0.974    0.9926   \n",
       "10       0.9945      0.9926       0.9894       0.9935      0.976    0.9926   \n",
       "9        0.9945      0.9926       0.9894       0.9935      0.976    0.9926   \n",
       "6        0.9908      0.9913       0.9915       0.9912      0.968    0.9913   \n",
       "\n",
       "    F1-score  \n",
       "0     0.9827  \n",
       "1     0.9827  \n",
       "10    0.9827  \n",
       "9     0.9827  \n",
       "6     0.9796  "
      ]
     },
     "execution_count": 22,
     "metadata": {},
     "output_type": "execute_result"
    }
   ],
   "source": [
    "scores_df.sort_values(by='Accuracy', ascending=False).head()"
   ]
  },
  {
   "cell_type": "code",
   "execution_count": 166,
   "metadata": {},
   "outputs": [],
   "source": [
    "scores_df.to_csv('../models/scores.csv', index=False)\n",
    "scores_df.to_pickle('../models/scores.p')"
   ]
  },
  {
   "cell_type": "code",
   "execution_count": null,
   "metadata": {},
   "outputs": [],
   "source": []
  }
 ],
 "metadata": {
  "kernelspec": {
   "display_name": "Python 3",
   "language": "python",
   "name": "python3"
  },
  "language_info": {
   "codemirror_mode": {
    "name": "ipython",
    "version": 3
   },
   "file_extension": ".py",
   "mimetype": "text/x-python",
   "name": "python",
   "nbconvert_exporter": "python",
   "pygments_lexer": "ipython3",
   "version": "3.8.3"
  }
 },
 "nbformat": 4,
 "nbformat_minor": 4
}
